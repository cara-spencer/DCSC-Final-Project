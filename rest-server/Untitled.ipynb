{
 "cells": [
  {
   "cell_type": "code",
   "execution_count": 3,
   "id": "67ae80e5-3df2-49c7-a73f-29f6877cad61",
   "metadata": {},
   "outputs": [
    {
     "name": "stdout",
     "output_type": "stream",
     "text": [
      "{\"error\":\"invalid_client\",\"error_description\":\"Invalid clientId or secret provided\"}\n"
     ]
    }
   ],
   "source": [
    "import http.client\n",
    "import mimetypes\n",
    "import base64\n",
    "\n",
    "#create the Base64 encoded basic authorization string\n",
    "clientID=\"{dc8e9474a8917ac4a664b3e53f64b5b9}\"\n",
    "clientsecret=\"{3Mkd75H0O5VSMJaaoJc2LMfGViphi0tP9kL9eYo4hqwce12pGk5rp3kJpHQ8Xp1N}\"\n",
    "auth = \"{0}:{1}\".format(clientID, clientsecret)\n",
    "encodedBytes=base64.b64encode(auth.encode(\"utf-8\"))\n",
    "authStr = str(encodedBytes, \"utf-8\")\n",
    "\n",
    "#create the connection \n",
    "conn = http.client.HTTPSConnection(\"st3.qualtrics.com\")\n",
    "body = \"grant_type=client_credentials\"\n",
    "headers = {\n",
    "  'Content-Type': 'application/x-www-form-urlencoded'\n",
    "}\n",
    "headers['Authorization'] = 'Basic {0}'.format(authStr)\n",
    "\n",
    "#make the request\n",
    "conn.request(\"POST\", \"/oauth2/token\", body, headers)\n",
    "res = conn.getresponse()\n",
    "data = res.read()\n",
    "\n",
    "print(data.decode(\"utf-8\"))"
   ]
  },
  {
   "cell_type": "code",
   "execution_count": null,
   "id": "8876478e-4ae8-45a4-aa87-3ab721c3a140",
   "metadata": {},
   "outputs": [],
   "source": []
  },
  {
   "cell_type": "code",
   "execution_count": null,
   "id": "3dca55e4-5904-4526-89e9-7e613ecde272",
   "metadata": {},
   "outputs": [],
   "source": []
  }
 ],
 "metadata": {
  "kernelspec": {
   "display_name": "Python 3 (ipykernel)",
   "language": "python",
   "name": "python3"
  },
  "language_info": {
   "codemirror_mode": {
    "name": "ipython",
    "version": 3
   },
   "file_extension": ".py",
   "mimetype": "text/x-python",
   "name": "python",
   "nbconvert_exporter": "python",
   "pygments_lexer": "ipython3",
   "version": "3.10.5"
  }
 },
 "nbformat": 4,
 "nbformat_minor": 5
}
